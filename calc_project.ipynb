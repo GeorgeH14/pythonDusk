{
  "nbformat": 4,
  "nbformat_minor": 0,
  "metadata": {
    "colab": {
      "provenance": [],
      "authorship_tag": "ABX9TyMyKvkRkgm9tz8l4S1FnNkn",
      "include_colab_link": true
    },
    "kernelspec": {
      "name": "python3",
      "display_name": "Python 3"
    },
    "language_info": {
      "name": "python"
    }
  },
  "cells": [
    {
      "cell_type": "markdown",
      "metadata": {
        "id": "view-in-github",
        "colab_type": "text"
      },
      "source": [
        "<a href=\"https://colab.research.google.com/github/GeorgeH14/pythonDusk/blob/main/calc_project.ipynb\" target=\"_parent\"><img src=\"https://colab.research.google.com/assets/colab-badge.svg\" alt=\"Open In Colab\"/></a>"
      ]
    },
    {
      "cell_type": "markdown",
      "source": [
        "# Fixes and Adding features:\n",
        "\n",
        "1. Allow floats to work within the calc\n",
        "2. Allow reuse of the calculator\n",
        "3. Add more clarity to user"
      ],
      "metadata": {
        "id": "3HiF8IdCemid"
      }
    },
    {
      "cell_type": "code",
      "source": [
        "\n"
      ],
      "metadata": {
        "id": "UtzwtppRz-dA"
      },
      "execution_count": null,
      "outputs": []
    },
    {
      "cell_type": "code",
      "execution_count": null,
      "metadata": {
        "colab": {
          "base_uri": "https://localhost:8080/",
          "height": 634
        },
        "id": "nKFxPYoDPx3G",
        "outputId": "657ca40a-4e1e-4273-d73d-3ac6ae4a12ab"
      },
      "outputs": [
        {
          "output_type": "stream",
          "name": "stdout",
          "text": [
            "Welcome to my calculator!\n",
            " Please input a number: \n",
            "Enter a number(Integer/Decimal): 123\n",
            "Now enter another integer/decimal: 0\n",
            "What formula would you like to do?\n",
            "1. Addition\n",
            "2. Subtraction\n",
            "3. Multiplication\n",
            "4. Division\n",
            "5. Modulus\n",
            "6. Floor division\n",
            "7. Exponent\n",
            "Select a Number: \t4\n",
            "You have selected: 4\n",
            ".\n",
            "Numbers cannot be divisible by 0\n",
            "Welcome to my calculator!\n",
            " Please input a number: \n"
          ]
        },
        {
          "output_type": "error",
          "ename": "KeyboardInterrupt",
          "evalue": "Interrupted by user",
          "traceback": [
            "\u001b[0;31m---------------------------------------------------------------------------\u001b[0m",
            "\u001b[0;31mKeyboardInterrupt\u001b[0m                         Traceback (most recent call last)",
            "\u001b[0;32m/tmp/ipython-input-4190953924.py\u001b[0m in \u001b[0;36m<cell line: 0>\u001b[0;34m()\u001b[0m\n\u001b[1;32m     88\u001b[0m       \u001b[0mexit\u001b[0m\u001b[0;34m\u001b[0m\u001b[0;34m\u001b[0m\u001b[0m\n\u001b[1;32m     89\u001b[0m \u001b[0;34m\u001b[0m\u001b[0m\n\u001b[0;32m---> 90\u001b[0;31m \u001b[0mcalc_project\u001b[0m\u001b[0;34m(\u001b[0m\u001b[0;34m)\u001b[0m\u001b[0;34m\u001b[0m\u001b[0;34m\u001b[0m\u001b[0m\n\u001b[0m",
            "\u001b[0;32m/tmp/ipython-input-4190953924.py\u001b[0m in \u001b[0;36mcalc_project\u001b[0;34m()\u001b[0m\n\u001b[1;32m     57\u001b[0m     \u001b[0;32mif\u001b[0m \u001b[0my\u001b[0m \u001b[0;34m==\u001b[0m \u001b[0;36m0\u001b[0m\u001b[0;34m:\u001b[0m\u001b[0;34m\u001b[0m\u001b[0;34m\u001b[0m\u001b[0m\n\u001b[1;32m     58\u001b[0m       \u001b[0mprint\u001b[0m\u001b[0;34m(\u001b[0m\u001b[0;34m\"Numbers cannot be divisible by 0\"\u001b[0m\u001b[0;34m)\u001b[0m\u001b[0;34m\u001b[0m\u001b[0;34m\u001b[0m\u001b[0m\n\u001b[0;32m---> 59\u001b[0;31m       \u001b[0mcalc_project\u001b[0m\u001b[0;34m(\u001b[0m\u001b[0;34m)\u001b[0m\u001b[0;34m\u001b[0m\u001b[0;34m\u001b[0m\u001b[0m\n\u001b[0m\u001b[1;32m     60\u001b[0m \u001b[0;34m\u001b[0m\u001b[0m\n\u001b[1;32m     61\u001b[0m     \u001b[0;32melse\u001b[0m\u001b[0;34m:\u001b[0m\u001b[0;34m\u001b[0m\u001b[0;34m\u001b[0m\u001b[0m\n",
            "\u001b[0;32m/tmp/ipython-input-4190953924.py\u001b[0m in \u001b[0;36mcalc_project\u001b[0;34m()\u001b[0m\n\u001b[1;32m      4\u001b[0m \u001b[0;34m\u001b[0m\u001b[0m\n\u001b[1;32m      5\u001b[0m   \u001b[0;32mwhile\u001b[0m \u001b[0;32mTrue\u001b[0m\u001b[0;34m:\u001b[0m\u001b[0;34m\u001b[0m\u001b[0;34m\u001b[0m\u001b[0m\n\u001b[0;32m----> 6\u001b[0;31m     \u001b[0mx\u001b[0m \u001b[0;34m=\u001b[0m \u001b[0minput\u001b[0m\u001b[0;34m(\u001b[0m\u001b[0;34m\"Enter a number(Integer/Decimal): \"\u001b[0m\u001b[0;34m)\u001b[0m\u001b[0;34m\u001b[0m\u001b[0;34m\u001b[0m\u001b[0m\n\u001b[0m\u001b[1;32m      7\u001b[0m \u001b[0;34m\u001b[0m\u001b[0m\n\u001b[1;32m      8\u001b[0m     \u001b[0;32mtry\u001b[0m\u001b[0;34m:\u001b[0m\u001b[0;34m\u001b[0m\u001b[0;34m\u001b[0m\u001b[0m\n",
            "\u001b[0;32m/usr/local/lib/python3.12/dist-packages/ipykernel/kernelbase.py\u001b[0m in \u001b[0;36mraw_input\u001b[0;34m(self, prompt)\u001b[0m\n\u001b[1;32m   1175\u001b[0m                 \u001b[0;34m\"raw_input was called, but this frontend does not support input requests.\"\u001b[0m\u001b[0;34m\u001b[0m\u001b[0;34m\u001b[0m\u001b[0m\n\u001b[1;32m   1176\u001b[0m             )\n\u001b[0;32m-> 1177\u001b[0;31m         return self._input_request(\n\u001b[0m\u001b[1;32m   1178\u001b[0m             \u001b[0mstr\u001b[0m\u001b[0;34m(\u001b[0m\u001b[0mprompt\u001b[0m\u001b[0;34m)\u001b[0m\u001b[0;34m,\u001b[0m\u001b[0;34m\u001b[0m\u001b[0;34m\u001b[0m\u001b[0m\n\u001b[1;32m   1179\u001b[0m             \u001b[0mself\u001b[0m\u001b[0;34m.\u001b[0m\u001b[0m_parent_ident\u001b[0m\u001b[0;34m[\u001b[0m\u001b[0;34m\"shell\"\u001b[0m\u001b[0;34m]\u001b[0m\u001b[0;34m,\u001b[0m\u001b[0;34m\u001b[0m\u001b[0;34m\u001b[0m\u001b[0m\n",
            "\u001b[0;32m/usr/local/lib/python3.12/dist-packages/ipykernel/kernelbase.py\u001b[0m in \u001b[0;36m_input_request\u001b[0;34m(self, prompt, ident, parent, password)\u001b[0m\n\u001b[1;32m   1217\u001b[0m             \u001b[0;32mexcept\u001b[0m \u001b[0mKeyboardInterrupt\u001b[0m\u001b[0;34m:\u001b[0m\u001b[0;34m\u001b[0m\u001b[0;34m\u001b[0m\u001b[0m\n\u001b[1;32m   1218\u001b[0m                 \u001b[0;31m# re-raise KeyboardInterrupt, to truncate traceback\u001b[0m\u001b[0;34m\u001b[0m\u001b[0;34m\u001b[0m\u001b[0m\n\u001b[0;32m-> 1219\u001b[0;31m                 \u001b[0;32mraise\u001b[0m \u001b[0mKeyboardInterrupt\u001b[0m\u001b[0;34m(\u001b[0m\u001b[0;34m\"Interrupted by user\"\u001b[0m\u001b[0;34m)\u001b[0m \u001b[0;32mfrom\u001b[0m \u001b[0;32mNone\u001b[0m\u001b[0;34m\u001b[0m\u001b[0;34m\u001b[0m\u001b[0m\n\u001b[0m\u001b[1;32m   1220\u001b[0m             \u001b[0;32mexcept\u001b[0m \u001b[0mException\u001b[0m\u001b[0;34m:\u001b[0m\u001b[0;34m\u001b[0m\u001b[0;34m\u001b[0m\u001b[0m\n\u001b[1;32m   1221\u001b[0m                 \u001b[0mself\u001b[0m\u001b[0;34m.\u001b[0m\u001b[0mlog\u001b[0m\u001b[0;34m.\u001b[0m\u001b[0mwarning\u001b[0m\u001b[0;34m(\u001b[0m\u001b[0;34m\"Invalid Message:\"\u001b[0m\u001b[0;34m,\u001b[0m \u001b[0mexc_info\u001b[0m\u001b[0;34m=\u001b[0m\u001b[0;32mTrue\u001b[0m\u001b[0;34m)\u001b[0m\u001b[0;34m\u001b[0m\u001b[0;34m\u001b[0m\u001b[0m\n",
            "\u001b[0;31mKeyboardInterrupt\u001b[0m: Interrupted by user"
          ]
        }
      ],
      "source": [
        "def calc_project():\n",
        "\n",
        "  print(\"Welcome to my calculator!\\n\",\"Please input a number: \")\n",
        "\n",
        "  while True:\n",
        "    x = input(\"Enter a number(Integer/Decimal): \")\n",
        "\n",
        "    try:\n",
        "      x = float(x) #Allows use of both integers and decimals\n",
        "      break\n",
        "    except ValueError:\n",
        "      print(\"Invalid. Please enter a number.\")\n",
        "\n",
        "  while True:\n",
        "    y = input(\"Now enter another integer/decimal: \")\n",
        "\n",
        "    try:\n",
        "      y = float(y)\n",
        "      break\n",
        "    except ValueError:\n",
        "      print(\"Invalid. Please enter a number.\")\n",
        "\n",
        "  print(\"What formula would you like to do?\\n1. Addition\\n2. Subtraction\\n3. Multiplication\\n4. Division\\n5. Modulus\\n6. Floor division\\n7. Exponent\")\n",
        "\n",
        "  while True:\n",
        "    selection = input(\"Select a Number: \\t\")\n",
        "\n",
        "    if not selection.isdigit() :\n",
        "      print(\"Invalid. Try again.\")\n",
        "      continue\n",
        "\n",
        "    selection = int(selection)\n",
        "\n",
        "    if 1 <= selection <= 7 :\n",
        "      print(f\"You have selected: {selection}\\n.\")\n",
        "      break\n",
        "    else:\n",
        "      print(\"Number out of range. Try again:\\n\")\n",
        "      continue\n",
        "\n",
        "  if selection == 1:\n",
        "    answer = x + y\n",
        "    print(f\"{x} + {y} = {answer}\")\n",
        "\n",
        "\n",
        "  if selection == 2:\n",
        "      answer = x - y\n",
        "      print(f\"{x} - {y} = {answer}\")\n",
        "\n",
        "\n",
        "  if selection == 3:\n",
        "      answer = x * y\n",
        "      print(f\"{x} x {y} = {answer}\")\n",
        "\n",
        "\n",
        "  if selection == 4:\n",
        "    if y == 0:\n",
        "      print(\"Numbers cannot be divisible by 0\")\n",
        "      calc_project()\n",
        "\n",
        "    else:\n",
        "      answer = x / y\n",
        "      print(f\"{x} ÷ {y} = {answer}\")\n",
        "\n",
        "\n",
        "  if selection == 5:\n",
        "      answer = x % y\n",
        "      print(f\"{x} % {y} = {answer}\")\n",
        "\n",
        "\n",
        "  if selection == 6:\n",
        "      answer = x // y\n",
        "      print(f\"{x} // {y} = {answer}\")\n",
        "\n",
        "\n",
        "  if selection == 7:\n",
        "      answer = x ** y\n",
        "      print(f\"{x} to the power of {y} = {answer}\")\n",
        "\n",
        "      #########################################################################\n",
        "\n",
        "  restart = input(\"Would you like to restart the calculator?\\n1. Yes\\n2. No\\n\")\n",
        "  if restart == \"1\" :\n",
        "    calc_project()\n",
        "\n",
        "  else:\n",
        "      print(\"\\nClosing Calculator.\\nGoodbye!\")\n",
        "      exit\n",
        "\n",
        "calc_project()"
      ]
    },
    {
      "cell_type": "code",
      "source": [],
      "metadata": {
        "id": "H2Pp4FbvQgxs"
      },
      "execution_count": null,
      "outputs": []
    }
  ]
}